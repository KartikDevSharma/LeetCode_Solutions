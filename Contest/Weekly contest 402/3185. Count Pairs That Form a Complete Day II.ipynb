{
 "cells": [
  {
   "cell_type": "code",
   "execution_count": null,
   "metadata": {},
   "outputs": [],
   "source": [
    "class Solution:\n",
    "    def countCompleteDayPairs(self, a: List[int]) -> int:\n",
    "        ans = 0\n",
    "        d = defaultdict(lambda: 0)\n",
    "        for val in a:\n",
    "            rem = val % 24\n",
    "            need = 24 - rem\n",
    "            need %= 24\n",
    "            ans += d[need]\n",
    "            d[rem] += 1\n",
    "        return ans"
   ]
  }
 ],
 "metadata": {
  "language_info": {
   "name": "python"
  }
 },
 "nbformat": 4,
 "nbformat_minor": 2
}
