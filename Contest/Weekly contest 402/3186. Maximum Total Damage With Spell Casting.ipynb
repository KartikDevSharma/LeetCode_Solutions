{
 "cells": [
  {
   "cell_type": "code",
   "execution_count": null,
   "metadata": {},
   "outputs": [],
   "source": [
    "from bisect import bisect_left, bisect_right\n",
    "class Solution:\n",
    "    def maximumTotalDamage(self, a: List[int]) -> int:\n",
    "        n = len(a)\n",
    "        dp = [-1 for i in range(n)]\n",
    "        a.sort()\n",
    "        def sol(idx):\n",
    "            if(idx >= n):\n",
    "                return 0\n",
    "            if(dp[idx] != -1):\n",
    "                return dp[idx]\n",
    "            ans = 0\n",
    "            # skip\n",
    "            ans = max(ans, sol(idx + 1))\n",
    "            # take\n",
    "            cnt = 0\n",
    "            v = a[idx]\n",
    "            i = bisect_left(a, v + 1)\n",
    "            i -= 1\n",
    "            cnt += i - idx + 1\n",
    "            adder = cnt * v\n",
    "            nex = bisect_left(a, v + 3)\n",
    "            ans = max(ans, adder + sol(nex))\n",
    "            dp[idx] = ans\n",
    "            return dp[idx]\n",
    "        return sol(0)"
   ]
  }
 ],
 "metadata": {
  "language_info": {
   "name": "python"
  }
 },
 "nbformat": 4,
 "nbformat_minor": 2
}
