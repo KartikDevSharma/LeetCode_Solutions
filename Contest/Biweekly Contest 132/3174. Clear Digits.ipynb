{
 "cells": [
  {
   "cell_type": "code",
   "execution_count": null,
   "metadata": {},
   "outputs": [],
   "source": [
    "class Solution:\n",
    " \n",
    "  def clearDigits(self, s: str) -> str:\n",
    "  \n",
    "\n",
    "    while any(char.isdigit() for char in s):\n",
    "      i = next(i for i, char in enumerate(s) if char.isdigit())\n",
    "     \n",
    "      if i == 0:\n",
    "        s = s[1:]\n",
    "      else:\n",
    "      \n",
    "        s = s[:i-1] + (s[i + 1:] if i < len(s) else \"\")\n",
    "    return s\n",
    "\n"
   ]
  },
  {
   "cell_type": "code",
   "execution_count": null,
   "metadata": {},
   "outputs": [],
   "source": [
    "#"
   ]
  }
 ],
 "metadata": {
  "language_info": {
   "name": "python"
  }
 },
 "nbformat": 4,
 "nbformat_minor": 2
}
